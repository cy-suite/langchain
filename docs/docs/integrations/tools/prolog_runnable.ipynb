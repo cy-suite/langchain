{
 "cells": [
  {
   "cell_type": "markdown",
   "id": "b690eeb4",
   "metadata": {},
   "source": [
    "# Prolog Runnable\n",
    "\n",
    "The PrologRunnable class allows the generation of langchain runnables that use Prolog rules to generate answers.\n",
    "\n",
    "Let's use the following Prolog rules in the file family.pl:\n",
    "\n",
    "parent(john, bianca, mary).\\\n",
    "parent(john, bianca, michael).\\\n",
    "parent(peter, patricia, jennifer).\\\n",
    "partner(X, Y) :- parent(X, Y, _)."
   ]
  },
  {
   "cell_type": "code",
   "execution_count": 1,
   "id": "60f0e3d4",
   "metadata": {},
   "outputs": [],
   "source": [
    "#!pip install langchain-prolog\n",
    "\n",
    "from langchain_prolog import PrologConfig, PrologRunnable\n",
    "\n",
    "TEST_SCRIPT = 'family.pl'"
   ]
  },
  {
   "cell_type": "markdown",
   "id": "aa6db2dc",
   "metadata": {},
   "source": [
    "\n",
    "There are three diferent ways to use a PrologRunnable to query Prolog:"
   ]
  },
  {
   "cell_type": "markdown",
   "id": "70f75e1b",
   "metadata": {},
   "source": [
    "### 1) Using a full predicate string"
   ]
  },
  {
   "cell_type": "code",
   "execution_count": 2,
   "id": "888c1035",
   "metadata": {},
   "outputs": [],
   "source": [
    "config = PrologConfig(rules_file=TEST_SCRIPT)\n",
    "prolog = PrologRunnable(prolog_config=config)"
   ]
  },
  {
   "cell_type": "markdown",
   "id": "12679ebd",
   "metadata": {},
   "source": [
    "We can pass a string representing a single predicate query. The invoke method will return `True`, `False` or a list of dictionaries with all the solutions to the query:"
   ]
  },
  {
   "cell_type": "code",
   "execution_count": 3,
   "id": "63fa1e3d",
   "metadata": {
    "scrolled": true
   },
   "outputs": [
    {
     "data": {
      "text/plain": [
       "[{'X': 'john', 'Y': 'bianca'},\n",
       " {'X': 'john', 'Y': 'bianca'},\n",
       " {'X': 'peter', 'Y': 'patricia'}]"
      ]
     },
     "execution_count": 3,
     "metadata": {},
     "output_type": "execute_result"
    }
   ],
   "source": [
    "prolog.invoke('partner(X, Y)')"
   ]
  },
  {
   "cell_type": "markdown",
   "id": "46ae61c4",
   "metadata": {},
   "source": [
    "### 2) Using a default predicate"
   ]
  },
  {
   "cell_type": "code",
   "execution_count": 4,
   "id": "adaf8bfd",
   "metadata": {},
   "outputs": [],
   "source": [
    "config = PrologConfig(\n",
    "            rules_file=TEST_SCRIPT,\n",
    "            default_predicate='partner'\n",
    "        )\n",
    "prolog = PrologRunnable(prolog_config=config)"
   ]
  },
  {
   "cell_type": "markdown",
   "id": "af025034",
   "metadata": {},
   "source": [
    "When using a default predicate, only the arguments for the predicate are passed to the Prolog runable, as a single string. Following Prolog conventions, uppercase identifiers are variables and lowercase identifiers are values (atoms or strings):"
   ]
  },
  {
   "cell_type": "code",
   "execution_count": 5,
   "id": "196eda7d",
   "metadata": {},
   "outputs": [
    {
     "data": {
      "text/plain": [
       "[{'X': 'patricia'}]"
      ]
     },
     "execution_count": 5,
     "metadata": {},
     "output_type": "execute_result"
    }
   ],
   "source": [
    "prolog.invoke('peter, X')"
   ]
  },
  {
   "cell_type": "markdown",
   "id": "05b17ba3",
   "metadata": {},
   "source": [
    "### 3) Using a dictionary and a query schema"
   ]
  },
  {
   "cell_type": "code",
   "execution_count": 6,
   "id": "d5305510",
   "metadata": {},
   "outputs": [],
   "source": [
    "schema = PrologRunnable.create_schema('partner', ['man', 'woman'])\n",
    "config = PrologConfig(\n",
    "            rules_file=TEST_SCRIPT,\n",
    "            query_schema=schema,\n",
    "        )\n",
    "prolog = PrologRunnable(prolog_config=config)"
   ]
  },
  {
   "cell_type": "markdown",
   "id": "45166f1d",
   "metadata": {},
   "source": [
    "If a schema is defined, we can pass a dictionary using the names of the parameters in the schema as the keys in the dictionary. The values can represent Prolog variables (uppercase first letter) or strings (lower case first letter). A `None` value is interpreted as a variable and replaced with the key capitalized:"
   ]
  },
  {
   "cell_type": "code",
   "execution_count": 7,
   "id": "02a389a3",
   "metadata": {},
   "outputs": [
    {
     "data": {
      "text/plain": [
       "[{'Man': 'john'}, {'Man': 'john'}]"
      ]
     },
     "execution_count": 7,
     "metadata": {},
     "output_type": "execute_result"
    }
   ],
   "source": [
    "prolog.invoke({\"man\": None, \"woman\": \"bianca\"})"
   ]
  },
  {
   "cell_type": "markdown",
   "id": "48a998e0",
   "metadata": {},
   "source": [
    "You can also pass a Pydantic object generated with the schema to the invoke method. Uppercase values are treated as variables:"
   ]
  },
  {
   "cell_type": "code",
   "execution_count": 8,
   "id": "e721e4ad",
   "metadata": {},
   "outputs": [
    {
     "data": {
      "text/plain": [
       "[{'X': 'john', 'Y': 'bianca'},\n",
       " {'X': 'john', 'Y': 'bianca'},\n",
       " {'X': 'peter', 'Y': 'patricia'}]"
      ]
     },
     "execution_count": 8,
     "metadata": {},
     "output_type": "execute_result"
    }
   ],
   "source": [
    "args = schema(man='X', woman='Y')\n",
    "prolog.invoke(args)"
   ]
  },
  {
   "cell_type": "code",
   "execution_count": null,
   "id": "4641f8fa",
   "metadata": {},
   "outputs": [],
   "source": []
  }
 ],
 "metadata": {
  "kernelspec": {
   "display_name": "Python 3.9 (test-env)",
   "language": "python",
   "name": "test-env"
  },
  "language_info": {
   "codemirror_mode": {
    "name": "ipython",
    "version": 3
   },
   "file_extension": ".py",
   "mimetype": "text/x-python",
   "name": "python",
   "nbconvert_exporter": "python",
   "pygments_lexer": "ipython3",
   "version": "3.9.21"
  }
 },
 "nbformat": 4,
 "nbformat_minor": 5
}
