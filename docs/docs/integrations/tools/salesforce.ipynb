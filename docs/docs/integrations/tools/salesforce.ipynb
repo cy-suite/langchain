{
 "cells": [
  {
   "cell_type": "markdown",
   "id": "07b8af61",
   "metadata": {},
   "source": [
    "# Salesforce\n",
    "\n",
    "This notebook shows how to use the Salesforce tools in LangChain.\n",
    "\n",
    "The Salesforce integration provides tools for:\n",
    "1. Querying Salesforce data using SOQL\n",
    "2. Getting information about Salesforce objects\n",
    "3. Listing available Salesforce objects\n",
    "\n",
    "## Installation\n",
    "\n",
    "First, you need to install the `simple-salesforce` package:\n",
    "\n",
    "```bash\n",
    "pip install simple-salesforce\n",
    "```"
   ]
  },
  {
   "cell_type": "code",
   "execution_count": null,
   "id": "72ec2685",
   "metadata": {},
   "outputs": [],
   "source": [
    "from simple_salesforce import Salesforce\n",
    "from langchain_community.tools.salesforce import (\n",
    "    QuerySalesforceTool,\n",
    "    InfoSalesforceTool,\n",
    "    ListSalesforceTool\n",
    ")"
   ]
  },
  {
   "cell_type": "markdown",
   "id": "8c8d1845",
   "metadata": {},
   "source": [
    "## Setup\n",
    "\n",
    "You can initialize the Salesforce tools in two ways:\n",
    "\n",
    "1. Using direct credentials\n",
    "2. Using an existing Salesforce instance\n",
    "\n",
    "### Option 1: Using Direct Credentials"
   ]
  },
  {
   "cell_type": "code",
   "execution_count": null,
   "id": "6b979320",
   "metadata": {},
   "outputs": [],
   "source": [
    "# Initialize Salesforce with credentials\n",
    "sf = Salesforce(\n",
    "    username='your_username',\n",
    "    password='your_password',\n",
    "    security_token='your_token',\n",
    "    domain='test'  # Use 'test' for sandbox, remove for production\n",
    ")\n",
    "\n",
    "# Create tools\n",
    "tools = [\n",
    "    QuerySalesforceTool(sfdc_instance=sf),\n",
    "    InfoSalesforceTool(sfdc_instance=sf),\n",
    "    ListSalesforceTool(sfdc_instance=sf)\n",
    "]"
   ]
  },
  {
   "cell_type": "markdown",
   "id": "33a07a24",
   "metadata": {},
   "source": [
    "## Using the Tools\n",
    "\n",
    "### 1. List Available Objects"
   ]
  },
  {
   "cell_type": "code",
   "execution_count": null,
   "id": "4390be44",
   "metadata": {},
   "outputs": [],
   "source": [
    "# List all queryable objects in your Salesforce instance\n",
    "result = list_tool.run(\"\")\n",
    "print(result)"
   ]
  },
  {
   "cell_type": "markdown",
   "id": "0e260339",
   "metadata": {},
   "source": [
    "### 2. Get Object Information"
   ]
  },
  {
   "cell_type": "code",
   "execution_count": null,
   "id": "802f9662",
   "metadata": {},
   "outputs": [],
   "source": [
    "# Get information about specific objects\n",
    "result = info_tool.run(\"Account,Contact\")\n",
    "print(result)"
   ]
  },
  {
   "cell_type": "markdown",
   "id": "80bd9c66",
   "metadata": {},
   "source": [
    "### 3. Query Salesforce Data"
   ]
  },
  {
   "cell_type": "code",
   "execution_count": null,
   "id": "a3f43b83",
   "metadata": {},
   "outputs": [],
   "source": [
    "# Execute a SOQL query\n",
    "query = \"SELECT Id, Name, Industry FROM Account LIMIT 5\"\n",
    "result = query_tool.run(query)\n",
    "print(result)"
   ]
  },
  {
   "cell_type": "markdown",
   "id": "1eef235d",
   "metadata": {},
   "source": [
    "## Using with an Agent\n",
    "\n",
    "The Salesforce tools can be used with LangChain agents to enable natural language interactions with your Salesforce data:"
   ]
  },
  {
   "cell_type": "code",
   "execution_count": null,
   "id": "0b35fe3c",
   "metadata": {},
   "outputs": [],
   "source": [
    "from langchain_core.prompts import ChatPromptTemplate\n",
    "from langchain_openai import ChatOpenAI\n",
    "from langchain.agents import create_openai_functions_agent\n",
    "from langchain.agents import AgentExecutor\n",
    "\n",
    "# Initialize the language model\n",
    "llm = ChatOpenAI(temperature=0)\n",
    "\n",
    "# Create a prompt template\n",
    "prompt = ChatPromptTemplate.from_messages([\n",
    "    (\"system\", \"You are a helpful assistant that can query Salesforce data. \"\n",
    "              \"Use the available tools to help answer questions about Salesforce data.\"),\n",
    "    (\"user\", \"{input}\")\n",
    "])\n",
    "\n",
    "# Create the agent\n",
    "agent = create_openai_functions_agent(llm, tools, prompt)\n",
    "agent_executor = AgentExecutor(agent=agent, tools=tools, verbose=True)"
   ]
  },
  {
   "cell_type": "code",
   "execution_count": null,
   "id": "46c907e3",
   "metadata": {},
   "outputs": [],
   "source": [
    "# Example: Ask the agent to get information about accounts\n",
    "result = agent_executor.invoke(\n",
    "    {\"input\": \"What are the top 5 accounts by revenue?\"}\n",
    ")\n",
    "print(result[\"output\"])"
   ]
  },
  {
   "cell_type": "markdown",
   "id": "b5243741",
   "metadata": {},
   "source": [
    "## Error Handling\n",
    "\n",
    "The tools are designed to handle errors gracefully:"
   ]
  },
  {
   "cell_type": "code",
   "execution_count": null,
   "id": "6c4bcb65",
   "metadata": {},
   "outputs": [],
   "source": [
    "# Example: Invalid SOQL query\n",
    "result = query_tool.run(\"SELECT Invalid FROM Account\")\n",
    "print(result)\n",
    "\n",
    "# Example: Invalid object name\n",
    "result = info_tool.run(\"InvalidObject\")\n",
    "print(result)"
   ]
  }
 ],
 "metadata": {
  "language_info": {
   "name": "python"
  }
 },
 "nbformat": 4,
 "nbformat_minor": 5
}
