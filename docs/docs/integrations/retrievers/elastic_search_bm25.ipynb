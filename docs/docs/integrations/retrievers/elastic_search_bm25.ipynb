{
 "cells": [
  {
   "cell_type": "markdown",
   "id": "ab66dd43",
   "metadata": {},
   "source": [
    "# ElasticSearch BM25\n",
    "\n",
    ">[Elasticsearch](https://www.elastic.co/elasticsearch/) is a distributed, RESTful search and analytics engine. It provides a distributed, multitenant-capable full-text search engine with an HTTP web interface and schema-free JSON documents.\n",
    "\n",
    ">In information retrieval, [Okapi BM25](https://en.wikipedia.org/wiki/Okapi_BM25) (BM is an abbreviation of best matching) is a ranking function used by search engines to estimate the relevance of documents to a given search query. It is based on the probabilistic retrieval framework developed in the 1970s and 1980s by Stephen E. Robertson, Karen Spärck Jones, and others.\n",
    "\n",
    ">The name of the actual ranking function is BM25. The fuller name, Okapi BM25, includes the name of the first system to use it, which was the Okapi information retrieval system, implemented at London's City University in the 1980s and 1990s. BM25 and its newer variants, e.g. BM25F (a version of BM25 that can take document structure and anchor text into account), represent TF-IDF-like retrieval functions used in document retrieval.\n",
    "\n",
    "This notebook shows how to use a retriever that uses `ElasticSearch` and `BM25`.\n",
    "\n",
    "For more information on the details of BM25 see [this blog post](https://www.elastic.co/blog/practical-bm25-part-2-the-bm25-algorithm-and-its-variables)."
   ]
  },
  {
   "cell_type": "code",
   "execution_count": null,
   "id": "51b49135-a61a-49e8-869d-7c1d76794cd7",
   "metadata": {
    "tags": []
   },
   "outputs": [],
   "source": [
    "%pip install --upgrade --quiet  elasticsearch"
   ]
  },
  {
   "cell_type": "code",
   "execution_count": 1,
   "id": "393ac030",
   "metadata": {
    "tags": []
   },
   "outputs": [],
   "source": [
    "from langchain_community.retrievers import (\n",
    "    ElasticSearchBM25Retriever,\n",
    ")"
   ]
  },
  {
   "cell_type": "markdown",
   "id": "e76256ac",
   "metadata": {},
   "source": [
    "Ensure your elasticsearch instance is setup."
   ]
  },
  {
   "cell_type": "code",
   "execution_count": null,
   "id": "64766052",
   "metadata": {},
   "outputs": [],
   "source": [
    "import os\n",
    "\n",
    "elastic_endpoint =os.getenv(\"ELASTIC_ENDPOINT\")\n",
    "api_key = os.getenv(\"ELASTIC_API_KEY\")"
   ]
  },
  {
   "cell_type": "markdown",
   "id": "aaf80e7f",
   "metadata": {},
   "source": [
    "## Create New Retriever"
   ]
  },
  {
   "cell_type": "code",
   "execution_count": 2,
   "id": "bcb3c8c2",
   "metadata": {
    "tags": []
   },
   "outputs": [],
   "source": [
    "# Example of a retriever\n",
    "elasticsearch_url = \"http://localhost:9200\"\n",
    "retriever = ElasticSearchBM25Retriever.create(elasticsearch_url, \n",
    "                                              index_name=\"langchain-index-4\",\n",
    "                                              delete_if_exists=False,\n",
    "                                              analyzer_type=\"standard\",\n",
    "                                              es_params={\"api_key\": api_key})"
   ]
  },
  {
   "cell_type": "markdown",
   "id": "84ddf1e3",
   "metadata": {},
   "source": [
    "You could set `delete_if_exists=True` in case you want to recreate the index. You could also set an analyzer for the index (default is the standard analyzer)."
   ]
  },
  {
   "cell_type": "code",
   "execution_count": 3,
   "id": "b605284d",
   "metadata": {},
   "outputs": [],
   "source": [
    "# Alternatively, you can load an existing index\n",
    "# import elasticsearch\n",
    "# elasticsearch_url=\"http://localhost:9200\"\n",
    "# retriever = ElasticSearchBM25Retriever(elasticsearch.Elasticsearch(elasticsearch_url), \"langchain-index\")"
   ]
  },
  {
   "cell_type": "markdown",
   "id": "1c518c42",
   "metadata": {},
   "source": [
    "## Add texts (if necessary)\n",
    "\n",
    "We can optionally add texts to the retriever (if they aren't already in there)"
   ]
  },
  {
   "cell_type": "code",
   "execution_count": 4,
   "id": "98b1c017",
   "metadata": {},
   "outputs": [
    {
     "data": {
      "text/plain": [
       "['622aa8f4-9e2f-4b13-ae85-392a72039bed',\n",
       " 'bb156db7-1a2a-4839-8e92-3057a281e931',\n",
       " '4168767e-27eb-472a-a1e5-287edb6d7a07',\n",
       " '2f99426b-99d5-4227-8d83-8ac1acde505d',\n",
       " '68e47327-c505-4cd8-b5ad-1c67836fb773']"
      ]
     },
     "execution_count": 4,
     "metadata": {},
     "output_type": "execute_result"
    }
   ],
   "source": [
    "retriever.add_texts([\"foo\", \"bar\", \"world\", \"hello\", \"foo bar\"])"
   ]
  },
  {
   "cell_type": "markdown",
   "id": "3eaf48d2",
   "metadata": {},
   "source": [
    "Alternatively, documents can be added"
   ]
  },
  {
   "cell_type": "code",
   "execution_count": 8,
   "id": "9a538e6d",
   "metadata": {},
   "outputs": [
    {
     "data": {
      "text/plain": [
       "['fc77d1fe-2865-45b1-b561-8948dbe12c77',\n",
       " 'da942234-3ad5-462a-9c86-4962d5585303',\n",
       " 'e77ff15c-64b0-4bf9-85d3-93a9d40d67bf',\n",
       " '0218eb3b-76b9-422c-a7c5-750725f5311c',\n",
       " '5246f9e6-e9a7-48d4-9964-1d403d7b5f58']"
      ]
     },
     "execution_count": 8,
     "metadata": {},
     "output_type": "execute_result"
    }
   ],
   "source": [
    "from langchain_core.documents import Document\n",
    "\n",
    "docs = [\n",
    "    Document(\n",
    "        metadata= {\"title\": \"The Anonymous Cat's Fame\"},\n",
    "        page_content=\"In a world where anonymity reigns, a mysterious cat wanders the streets, unaware of its own fame among the locals.\"\n",
    "    ),\n",
    "    Document(\n",
    "        metadata= {\"title\": \"The Secret Chocolate Chip Cookie Recipe\"},\n",
    "        page_content=\"The secret recipe for the world's best chocolate chip cookie remains hidden, as the baker took it to the grave, leaving only crumbs of information behind.\"\n",
    "    ),\n",
    "    Document(\n",
    "        metadata= {\"title\": \"The Mysterious Mural Artist\"},\n",
    "        page_content=\"An unidentified artist creates stunning murals throughout the city, their identity shrouded in mystery, as they continue to inspire and captivate the public.\"\n",
    "    ),\n",
    "    Document(\n",
    "        metadata= {\"title\": \"The Lost Letter's Heartwarming Tale\"},\n",
    "        page_content=\"A lost letter, written by an anonymous author, reveals a heartwarming tale of love and sacrifice, discovered and cherished by a stranger.\"\n",
    "    ),\n",
    "    Document(\n",
    "        metadata= {\"title\": \"The Forgotten Era's Secrets\"},\n",
    "        page_content=\"In the depths of the library, an ancient book, devoid of any identifying marks, unveils secrets and wisdom from a forgotten era.\"\n",
    "    )\n",
    "]\n",
    "\n",
    "retriever.add_documents(docs)"
   ]
  },
  {
   "cell_type": "markdown",
   "id": "08437fa2",
   "metadata": {},
   "source": [
    "## Use Retriever\n",
    "\n",
    "We can now use the retriever!"
   ]
  },
  {
   "cell_type": "code",
   "execution_count": 9,
   "id": "c0455218",
   "metadata": {},
   "outputs": [],
   "source": [
    "result = retriever.invoke(\"chocoloate chip\")"
   ]
  },
  {
   "cell_type": "code",
   "execution_count": 10,
   "id": "7dfa5c29",
   "metadata": {},
   "outputs": [
    {
     "data": {
      "text/plain": [
       "[Document(metadata={'title': 'The Secret Chocolate Chip Cookie Recipe'}, page_content=\"The secret recipe for the world's best chocolate chip cookie remains hidden, as the baker took it to the grave, leaving only crumbs of information behind.\")]"
      ]
     },
     "execution_count": 10,
     "metadata": {},
     "output_type": "execute_result"
    }
   ],
   "source": [
    "result"
   ]
  }
 ],
 "metadata": {
  "kernelspec": {
   "display_name": "langchain",
   "language": "python",
   "name": "python3"
  },
  "language_info": {
   "codemirror_mode": {
    "name": "ipython",
    "version": 3
   },
   "file_extension": ".py",
   "mimetype": "text/x-python",
   "name": "python",
   "nbconvert_exporter": "python",
   "pygments_lexer": "ipython3",
   "version": "3.13.1"
  }
 },
 "nbformat": 4,
 "nbformat_minor": 5
}
